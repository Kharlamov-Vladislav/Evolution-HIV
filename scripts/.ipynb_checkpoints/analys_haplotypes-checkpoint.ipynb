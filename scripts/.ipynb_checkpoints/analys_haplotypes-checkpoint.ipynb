{
 "cells": [
  {
   "cell_type": "code",
   "execution_count": 2,
   "metadata": {},
   "outputs": [],
   "source": [
    "import os\n",
    "import sys\n",
    "sys.path = [\"../utils\"] + sys.path\n",
    "from Bio import SeqIO\n",
    "import pickle\n",
    "import pandas as pd\n",
    "import seaborn as sns\n",
    "import matplotlib.pyplot as plt\n",
    "import numpy as np\n",
    "import sklearn\n",
    "from sklearn.linear_model import LogisticRegression\n",
    "from sklearn.model_selection import train_test_split\n",
    "from sklearn.ensemble import RandomForestClassifier\n",
    "from sklearn.model_selection import GridSearchCV\n",
    "from sklearn.metrics import f1_score\n",
    "from sklearn.metrics import roc_curve, auc, roc_auc_score\n",
    "from sklearn.preprocessing import PolynomialFeatures\n",
    "from sklearn.decomposition import PCA\n",
    "from mpl_toolkits.mplot3d import Axes3D\n",
    "from sklearn.model_selection import cross_val_score\n",
    "from sklearn.model_selection import StratifiedKFold\n",
    "from sklearn.metrics import confusion_matrix\n",
    "from sklearn.utils.multiclass import unique_labels\n",
    "import matplotlib.ticker as ticker\n",
    "import scipy.stats as stats\n",
    "import warnings\n",
    "from aa_properties import *\n",
    "from translate_dna import *\n",
    "from count_aminoacid import *\n",
    "\n",
    "warnings.filterwarnings('ignore')"
   ]
  },
  {
   "cell_type": "code",
   "execution_count": 3,
   "metadata": {},
   "outputs": [],
   "source": [
    "with open('classifier_RF.pickle', 'rb') as f:\n",
    "    clf_rf = pickle.load(f)"
   ]
  },
  {
   "cell_type": "code",
   "execution_count": 140,
   "metadata": {},
   "outputs": [],
   "source": [
    "os.chdir('/home/kharlamov/Документы/Project_HIV/data/haplotypes/regions/fasta')"
   ]
  },
  {
   "cell_type": "code",
   "execution_count": 98,
   "metadata": {},
   "outputs": [],
   "source": [
    "# Create dataset\n",
    "df = pd.DataFrame({aminoacid : [] for aminoacid in data_tmp.columns[1:]})\n",
    "df['patient'], df['region'], df['day'], df['n_reads'] = [], [], [], []"
   ]
  },
  {
   "cell_type": "code",
   "execution_count": 99,
   "metadata": {},
   "outputs": [],
   "source": [
    "for file_name in os.listdir(os.curdir):\n",
    "    for j, record in enumerate(SeqIO.parse(file_name, \"fasta\")):\n",
    "        tempory = record.description.split(' ')\n",
    "        day = int(tempory[4][:-1])\n",
    "        n_reads = int(tempory[-1])\n",
    "        region = file_name.split('_')[2].split('.')[0]\n",
    "        patient = file_name.split('_')[1]\n",
    "        tmp_data = [0] * 20 + list((patient, region, day, n_reads))\n",
    "        tmp = count_aminoacid(translate_dna(record.seq))\n",
    "        for i, elem in enumerate(name_aminoacid):\n",
    "            tmp_data[i] = float(tmp.setdefault(elem, 0))/sum(tmp.values())\n",
    "        df.loc[len(df) + 1] = tmp_data"
   ]
  },
  {
   "cell_type": "code",
   "execution_count": 100,
   "metadata": {},
   "outputs": [],
   "source": [
    "test = df.sort_values(by = ['patient', 'day'])\n",
    "#test = test[test['n_reads'] > 200]"
   ]
  },
  {
   "cell_type": "code",
   "execution_count": 24,
   "metadata": {},
   "outputs": [],
   "source": [
    "for p in ['p1', 'p2', 'p4', 'p5', 'p6', 'p8', 'p9', 'p10', 'p11']:\n",
    "    for r in ['vpu', 'psi', 'V3']:\n",
    "        df_tmp = test[(test['patient'] == p) & (test['region'] == r)]\n",
    "        unique_days = df_tmp['day'].unique()\n",
    "        for days in unique_days:\n",
    "            tmp = df_tmp[(test['day'] == days)]\n",
    "            prob = list(map(lambda x: x[0], clf_rf.predict_proba(tmp[tmp.columns[:20]])))\n",
    "            plt.scatter([days] * len(prob), prob)\n",
    "        plt.savefig('../../../../results/prob_plots/' + 'prob_' + p + '_' + r + '200''.png')\n",
    "        plt.close()"
   ]
  },
  {
   "cell_type": "code",
   "execution_count": 15,
   "metadata": {},
   "outputs": [],
   "source": [
    "def draw_graphics(df, patient, region, name_file = 'untiled', bool_save = False):\n",
    "    df = test[(test['patient'] == patient) & (test['region'] == region)]\n",
    "    y = list(map(lambda x: x[0], clf_rf.predict_proba(example[example.columns[:20]])))\n",
    "    hue = example['day']\n",
    "    size = example['n_reads']\n",
    "    \n",
    "    fig, ax = plt.subplots(figsize=(10,10))\n",
    "    ax.set_xlabel('Days after infection')\n",
    "    ax.set_ylabel('Probability that human protein') \n",
    "    ax.set_xlim([0, max(max(x) + 100, 300)])\n",
    "    ax.set_ylim([min(y) - 0.05, max(y) + 0.05])\n",
    "    \n",
    "    sns.scatterplot(x = df['day'], y = y)\n",
    "    print(df['day'])\n",
    "    if bool_save:\n",
    "        fig.savefig('../../../../results/prob_plots/' + name_file + '.png')\n",
    "        plt.close(fig)"
   ]
  },
  {
   "cell_type": "code",
   "execution_count": 56,
   "metadata": {},
   "outputs": [],
   "source": [
    "Coverage = {'V3' : [], 'psi' : [], 'vpu' : []}\n",
    "for r in test['region'].unique():\n",
    "    for p in test['patient'].unique():\n",
    "        tempory_list = list(filter(lambda x: x < 10000, test[(test['patient'] == p) & (test['region'] == r)]['n_reads']))\n",
    "        Coverage[r].append(sum(tempory_list) / max(1, len(tempory_list)))"
   ]
  },
  {
   "cell_type": "code",
   "execution_count": 57,
   "metadata": {},
   "outputs": [
    {
     "data": {
      "text/plain": [
       "<matplotlib.axes._subplots.AxesSubplot at 0x7f81d0edc510>"
      ]
     },
     "execution_count": 57,
     "metadata": {},
     "output_type": "execute_result"
    },
    {
     "data": {
      "image/png": "[encoded data removed]",
      "text/plain": [
       "<Figure size 432x288 with 1 Axes>"
      ]
     },
     "metadata": {
      "needs_background": "light"
     },
     "output_type": "display_data"
    }
   ],
   "source": [
    "x = ['V3', 'VPU', 'PSI']\n",
    "y = [Coverage['V3'], Coverage['vpu'], Coverage['psi']]\n",
    "fig, ax = plt.subplots()\n",
    "ax.set_title('Coverage contings')\n",
    "sns.boxplot(x, y, ax = ax)"
   ]
  },
  {
   "cell_type": "code",
   "execution_count": 101,
   "metadata": {},
   "outputs": [],
   "source": [
    "data = pd.read_csv('/home/kharlamov/Документы/Project_HIV/output/ListProteins.csv')"
   ]
  },
  {
   "cell_type": "code",
   "execution_count": 102,
   "metadata": {},
   "outputs": [
    {
     "data": {
      "text/plain": [
       "Index([u'A', u'C', u'D', u'E', u'F', u'G', u'H', u'I', u'K', u'L', u'M', u'N',\n",
       "       u'P', u'Q', u'R', u'S', u'T', u'V', u'W', u'Y', u'patient', u'region',\n",
       "       u'day', u'n_reads'],\n",
       "      dtype='object')"
      ]
     },
     "execution_count": 102,
     "metadata": {},
     "output_type": "execute_result"
    }
   ],
   "source": [
    "test.columns"
   ]
  },
  {
   "cell_type": "code",
   "execution_count": 103,
   "metadata": {},
   "outputs": [],
   "source": [
    "test_2 = pd.DataFrame(columns=data.columns[5:])"
   ]
  },
  {
   "cell_type": "code",
   "execution_count": 104,
   "metadata": {},
   "outputs": [],
   "source": [
    "for col in data.columns[5:]:\n",
    "    test_2[col] = test[col]\n",
    "for col in test.columns[20:]:\n",
    "    test_2[col] = test[col]"
   ]
  },
  {
   "cell_type": "code",
   "execution_count": 134,
   "metadata": {},
   "outputs": [
    {
     "name": "stdout",
     "output_type": "stream",
     "text": [
      "('p1', 'vpu', array([ 122.,  562., 1084., 1254., 1282., 1393., 2303., 2578., 2639.,\n",
      "       2922.]))\n",
      "('p1', 'psi', array([ 122.,  562., 1084., 1254., 1282., 1393., 1861., 2303., 2578.,\n",
      "       2639., 2922., 2996.]))\n",
      "('p1', 'V3', array([ 122., 1084., 1282., 1393., 1861., 2303., 2639., 2922., 2996.]))\n",
      "('p2', 'vpu', array([  74.,  561.,  936., 1255., 1628., 2018.]))\n",
      "('p2', 'psi', array([  74.,  561.,  936., 1255., 1628., 2018.]))\n",
      "('p2', 'V3', array([  74.,  561.,  936., 2018.]))\n",
      "('p4', 'vpu', array([  93.,  562., 1142., 1577., 1963., 2474., 2758., 3069.]))\n",
      "('p4', 'psi', array([], dtype=float64))\n",
      "('p4', 'V3', array([], dtype=float64))\n",
      "('p5', 'vpu', array([ 134.,  303.,  713., 1057., 1414., 1813., 2149.]))\n",
      "('p5', 'psi', array([ 303.,  713., 1057., 1414., 1813., 2149.]))\n",
      "('p5', 'V3', array([ 134.,  713., 1057., 1414., 1813., 2149.]))\n",
      "('p6', 'vpu', array([  62.,  118.,  974., 1293., 1724., 2178., 2556.]))\n",
      "('p6', 'psi', array([  62.,  118.,  974., 1293., 1724., 2178., 2556.]))\n",
      "('p6', 'V3', array([  62.,  118., 1293., 2178., 2556.]))\n",
      "('p8', 'vpu', array([ 200.,  570., 1003., 1437., 1810., 2208.]))\n",
      "('p8', 'psi', array([  87.,  200.,  570., 1003., 1437., 1810., 2208.]))\n",
      "('p8', 'V3', array([ 570., 1003., 1437., 1810., 2208.]))\n",
      "('p9', 'vpu', array([ 106.,  227.,  813., 1193., 1815., 2214., 2608., 2955.]))\n",
      "('p9', 'psi', array([ 106.,  227.,  813., 1193., 1815., 2214., 2608., 2955.]))\n",
      "('p9', 'V3', array([ 227.,  813., 1815., 2214.]))\n",
      "('p10', 'vpu', array([  33.,   66.,   68.,  374.,  530.,  912., 2229., 2256.]))\n",
      "('p10', 'psi', array([  33.,   66.,   68.,  374.,  912., 1004., 2229., 2256.]))\n",
      "('p10', 'V3', array([  33., 2229.]))\n",
      "('p11', 'vpu', array([ 209.,  332.,  572., 1026., 1396., 1750., 2043.]))\n",
      "('p11', 'psi', array([ 209.,  332.,  572., 1026., 1396., 1750., 2043.]))\n",
      "('p11', 'V3', array([ 572., 1026., 1396., 2043.]))\n"
     ]
    }
   ],
   "source": [
    "test = test_2\n",
    "test = test.sort_values(by = ['patient', 'day'])\n",
    "test = test[test['n_reads'] > 50]\n",
    "for p in ['p1', 'p2', 'p4', 'p5', 'p6', 'p8', 'p9', 'p10', 'p11']:\n",
    "    for r in ['vpu', 'psi', 'V3']:\n",
    "        df_tmp = test[(test['patient'] == p) & (test['region'] == r)]\n",
    "        unique_days = df_tmp['day'].unique()\n",
    "        print(p, r,unique_days)\n",
    "        for days in unique_days:\n",
    "            tmp = df_tmp[(test['day'] == days)]\n",
    "            prob = list(map(lambda x: x[0], clf_rf.predict_proba(tmp[tmp.columns[:20]])))\n",
    "            plt.scatter([days] * len(prob), prob)\n",
    "        plt.savefig('../../../../results/prob_plots/' + 'prob_' + p + '_' + r + '_50' + '.png')\n",
    "        plt.close()"
   ]
  },
  {
   "cell_type": "code",
   "execution_count": 178,
   "metadata": {},
   "outputs": [
    {
     "data": {
      "image/png": "[encoded data removed]",
      "text/plain": [
       "<Figure size 432x288 with 1 Axes>"
      ]
     },
     "metadata": {
      "needs_background": "light"
     },
     "output_type": "display_data"
    }
   ],
   "source": [
    "Coverage_haplo = {'V3' : [], 'vpu' : [], 'psi' : []}\n",
    "\n",
    "for file_name in os.listdir(os.curdir):\n",
    "    for j, record in enumerate(SeqIO.parse(file_name, \"fasta\")):\n",
    "        region = file_name.split('_')[2].split('.')[0]\n",
    "        Coverage_haplo[region].append(int(len(record.seq)))\n",
    "y = [Coverage_haplo['V3'], Coverage_haplo['vpu'], Coverage_haplo['psi']]\n",
    "fig, ax = plt.subplots()\n",
    "ax.set_title('Coverage haplotypes lenghts')\n",
    "real_df = pd.DataFrame(columns=['V3', 'vpu', 'psi'])"
   ]
  },
  {
   "cell_type": "code",
   "execution_count": 197,
   "metadata": {},
   "outputs": [
    {
     "data": {
      "text/plain": [
       "<matplotlib.axes._subplots.AxesSubplot at 0x7f81d166a090>"
      ]
     },
     "execution_count": 197,
     "metadata": {},
     "output_type": "execute_result"
    },
    {
     "data": {
      "image/png": "[encoded data removed]",
      "text/plain": [
       "<Figure size 432x288 with 1 Axes>"
      ]
     },
     "metadata": {
      "needs_background": "light"
     },
     "output_type": "display_data"
    }
   ],
   "source": [
    "sns.boxplot(y[0])\n",
    "sns.boxplot(y[1])\n",
    "sns.boxplot(y[2])"
   ]
  },
  {
   "cell_type": "code",
   "execution_count": null,
   "metadata": {},
   "outputs": [],
   "source": []
  }
 ],
 "metadata": {
  "kernelspec": {
   "display_name": "Python 3",
   "language": "python",
   "name": "python3"
  },
  "language_info": {
   "codemirror_mode": {
    "name": "ipython",
    "version": 2
   },
   "file_extension": ".py",
   "mimetype": "text/x-python",
   "name": "python",
   "nbconvert_exporter": "python",
   "pygments_lexer": "ipython2",
   "version": "2.7.15+"
  }
 },
 "nbformat": 4,
 "nbformat_minor": 2
}
